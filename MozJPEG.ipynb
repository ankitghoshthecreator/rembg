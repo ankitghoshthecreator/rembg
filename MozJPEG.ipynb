{
 "cells": [
  {
   "cell_type": "code",
   "execution_count": 4,
   "id": "1f079173-6bed-4e09-9958-ce4dfd824116",
   "metadata": {},
   "outputs": [
    {
     "name": "stdin",
     "output_type": "stream",
     "text": [
      "Enter path of image:  frame_0317.jpg\n"
     ]
    },
    {
     "name": "stdout",
     "output_type": "stream",
     "text": [
      "✅ Compressed image saved as: newframe_0317.jpg\n"
     ]
    }
   ],
   "source": [
    "import os\n",
    "import subprocess\n",
    "\n",
    "def compress_with_mozjpeg(image_path, quality=75):\n",
    "    folder, filename = os.path.split(image_path)\n",
    "    name, ext = os.path.splitext(filename)\n",
    "\n",
    "    new_filename = f\"new{name}.jpg\"\n",
    "    new_path = os.path.join(folder, new_filename)\n",
    "\n",
    "    # Full path to your cjpeg.exe\n",
    "    cjpeg_path = r\"E:\\removeBackground\\mozjpeg_4.1.1_x64\\mozjpeg_4.1.1_x64\\shared\\tools\\cjpeg.exe\"\n",
    "\n",
    "    try:\n",
    "        subprocess.run([\n",
    "            cjpeg_path, \"-quality\", str(quality), \"-progressive\",\n",
    "            \"-outfile\", new_path, image_path\n",
    "        ], check=True)\n",
    "        print(f\"✅ Compressed image saved as: {new_path}\")\n",
    "    except Exception as e:\n",
    "        print(f\"❌ Error: {e}\")\n",
    "\n",
    "if __name__ == \"__main__\":\n",
    "    path = input(\"Enter path of image: \").strip('\"')\n",
    "    compress_with_mozjpeg(path, quality=75)\n"
   ]
  },
  {
   "cell_type": "code",
   "execution_count": 19,
   "id": "a5049071-cff4-4468-aab5-62bf5a453e1b",
   "metadata": {},
   "outputs": [
    {
     "name": "stdin",
     "output_type": "stream",
     "text": [
      "Enter path of image:  frame_0209.jpg\n",
      "Enter tightness (1.0 = tightest, <1.0 = looser):  .01\n"
     ]
    },
    {
     "name": "stdout",
     "output_type": "stream",
     "text": [
      "*************** EP Error ***************\n",
      "EP Error D:\\a\\_work\\1\\s\\onnxruntime\\python\\onnxruntime_pybind_state.cc:490 onnxruntime::python::RegisterTensorRTPluginsAsCustomOps Please install TensorRT libraries as mentioned in the GPU requirements page, make sure they're in the PATH or LD_LIBRARY_PATH, and that your GPU is supported.\n",
      " when using ['TensorrtExecutionProvider', 'CUDAExecutionProvider', 'CPUExecutionProvider']\n",
      "Falling back to ['CUDAExecutionProvider', 'CPUExecutionProvider'] and retrying.\n",
      "****************************************\n",
      "✅ Processed and saved: newframe_0209.jpg\n"
     ]
    }
   ],
   "source": [
    "import os\n",
    "import cv2\n",
    "import numpy as np\n",
    "import subprocess\n",
    "from rembg import remove\n",
    "from PIL import Image\n",
    "\n",
    "# ====== CONFIG ======\n",
    "CJPEG_PATH = r\"E:\\removeBackground\\mozjpeg_4.1.1_x64\\mozjpeg_4.1.1_x64\\shared\\tools\\cjpeg.exe\"\n",
    "\n",
    "# ====== FUNCTIONS ======\n",
    "def dilate_mask(mask, dilation_pixels=20):\n",
    "    \"\"\"Expand mask outward to keep full human\"\"\"\n",
    "    kernel = np.ones((5, 5), np.uint8)\n",
    "    dilated = cv2.dilate(mask, kernel, iterations=dilation_pixels // 2)\n",
    "    return dilated\n",
    "\n",
    "def expand_bbox(x_min, y_min, x_max, y_max, image_w, image_h, tightness=1.0):\n",
    "    \"\"\"Adjust bbox tightness (1.0 = tightest, <1.0 = looser crop)\"\"\"\n",
    "    w = x_max - x_min\n",
    "    h = y_max - y_min\n",
    "    cx = (x_min + x_max) // 2\n",
    "    cy = (y_min + y_max) // 2\n",
    "\n",
    "    scale = 1 / tightness\n",
    "    new_w = int(w * scale)\n",
    "    new_h = int(h * scale)\n",
    "\n",
    "    x_min_new = max(0, cx - new_w // 2)\n",
    "    x_max_new = min(image_w, cx + new_w // 2)\n",
    "    y_min_new = max(0, cy - new_h // 2)\n",
    "    y_max_new = min(image_h, cy + new_h // 2)\n",
    "\n",
    "    return x_min_new, y_min_new, x_max_new, y_max_new\n",
    "\n",
    "def process_image(image_path, tightness=1.0, dilation_pixels=20, bg_color=(255, 255, 255), quality=75):\n",
    "    # Load image\n",
    "    orig = Image.open(image_path).convert(\"RGBA\")  # ensure alpha exists\n",
    "    image_w, image_h = orig.size\n",
    "\n",
    "    # Step 1: Rembg\n",
    "    result = remove(orig)\n",
    "    result_np = np.array(result)\n",
    "\n",
    "    # Step 2: Get mask & dilate\n",
    "    mask = result_np[:, :, 3]  # alpha channel\n",
    "    mask = (mask > 0).astype(np.uint8) * 255\n",
    "    mask = dilate_mask(mask, dilation_pixels)\n",
    "\n",
    "    # Step 3: Find bounding box\n",
    "    coords = cv2.findNonZero(mask)\n",
    "    x, y, w, h = cv2.boundingRect(coords)\n",
    "    x_min, y_min, x_max, y_max = expand_bbox(x, y, x + w, y + h, image_w, image_h, tightness)\n",
    "\n",
    "    # Step 4: Crop\n",
    "    cropped_img = np.array(orig)[y_min:y_max, x_min:x_max]\n",
    "\n",
    "    # Step 5: Replace background (handles alpha correctly)\n",
    "    if cropped_img.shape[2] == 4:  # RGBA\n",
    "        bg = np.full(cropped_img.shape[:2] + (3,), bg_color, dtype=np.uint8)\n",
    "        alpha = (cropped_img[:, :, 3] / 255.0)[:, :, None]\n",
    "        final_img = (alpha * cropped_img[:, :, :3] + (1 - alpha) * bg).astype(np.uint8)\n",
    "    else:  # already RGB\n",
    "        final_img = cropped_img\n",
    "\n",
    "    # Save as temporary PNG\n",
    "    temp_png = os.path.splitext(image_path)[0] + \"_temp.png\"\n",
    "    cv2.imwrite(temp_png, final_img)\n",
    "\n",
    "    # Step 6: Compress with MozJPEG\n",
    "    folder, filename = os.path.split(image_path)\n",
    "    name, ext = os.path.splitext(filename)\n",
    "    new_filename = f\"new{name}.jpg\"\n",
    "    new_path = os.path.join(folder, new_filename)\n",
    "\n",
    "    try:\n",
    "        subprocess.run([\n",
    "            CJPEG_PATH, \"-quality\", str(quality), \"-progressive\",\n",
    "            \"-outfile\", new_path, temp_png\n",
    "        ], check=True)\n",
    "        print(f\"✅ Processed and saved: {new_path}\")\n",
    "    except Exception as e:\n",
    "        print(f\"❌ Error: {e}\")\n",
    "    finally:\n",
    "        if os.path.exists(temp_png):\n",
    "            os.remove(temp_png)\n",
    "\n",
    "# ====== RUN ======\n",
    "if __name__ == \"__main__\":\n",
    "    path = input(\"Enter path of image: \").strip('\"')\n",
    "    tightness = float(input(\"Enter tightness (1.0 = tightest, <1.0 = looser): \"))\n",
    "    process_image(path, tightness=tightness, dilation_pixels=20, quality=50)\n"
   ]
  },
  {
   "cell_type": "code",
   "execution_count": null,
   "id": "18a7fc53-fd56-44d8-8833-a25b7c9b428d",
   "metadata": {},
   "outputs": [],
   "source": []
  }
 ],
 "metadata": {
  "kernelspec": {
   "display_name": "Python 3 (ipykernel)",
   "language": "python",
   "name": "python3"
  },
  "language_info": {
   "codemirror_mode": {
    "name": "ipython",
    "version": 3
   },
   "file_extension": ".py",
   "mimetype": "text/x-python",
   "name": "python",
   "nbconvert_exporter": "python",
   "pygments_lexer": "ipython3",
   "version": "3.9.13"
  }
 },
 "nbformat": 4,
 "nbformat_minor": 5
}
